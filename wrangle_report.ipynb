{
 "cells": [
  {
   "cell_type": "markdown",
   "metadata": {},
   "source": [
    "## Reporting: wrangle_report\n"
   ]
  },
  {
   "cell_type": "markdown",
   "metadata": {},
   "source": [
    "### Data Gathering\n",
    "* Three dataset were used in the project. The three dataset were gathered using different methods\n",
    "\n",
    "1. The twitter archive enhanced dataset was provided by udacity. It was downloaded and loaded in to a dataframe using the pandas to_Dataframe function\n",
    "\n",
    "2. The image prediction dataset was downloaded programatically using the python request library\n",
    "\n",
    "3. Extra tweet data such as retweet counts and favorite count was gathered by querying twitter API using the tweepy library"
   ]
  },
  {
   "cell_type": "markdown",
   "metadata": {},
   "source": [
    "### Data assessing \n",
    "\n",
    "* The three dataset were assessed both visually and prgrammatically. The following data quality issues and tidiness issues were detected\n",
    "\n",
    "##### Quality issues\n",
    "1. There are unnecessary columns that need to be dropped in all the datasets\n",
    "\n",
    "2. Wrong datatype for the Timestamp  and tweet_id column in the tweeter archive dataset\n",
    "\n",
    "3. 'a' as name in the name column of the tweeter archive dataset(wrongly extracted names)\n",
    "\n",
    "4. some tweets are retweeted\n",
    "\n",
    "5. rating denominators below and above 10\n",
    "\n",
    "6. inconsitency in the name column in the image prediction table\n",
    "\n",
    "7. some tweets are not dogs\n",
    "\n",
    "8. rating numerators above 15 \n",
    "\n",
    "9. some column names are not descriptive\n",
    "\n",
    "##### Tidiness issues\n",
    "1. there should be a dog_stages column that will contain the four dog stages represented in the tweeter archive table\n",
    "\n",
    "2. the data_json should be part of the tweeter archive table\n",
    "\n",
    "3. A tweet rating two dogs\n"
   ]
  },
  {
   "cell_type": "markdown",
   "metadata": {},
   "source": [
    "### Data cleaning\n",
    "* The issues detecting in the data assessing stage were clean using various pandas funtions and methods\n",
    "\n",
    "##### Issue #1: There are unnecessary columns that need to be dropped in all the datasets\n",
    "    The columns not needed for the analysis were dropped using the pandas .drop method\n",
    "    \n",
    "##### Issue #2: Wrong datatype for the Timestamp and tweet_id column in the tweeter archive dataset\n",
    "    The datatype of the timestamp column was changed to datetime and datatype of the tweet_id column was changed to object using the pandas to_datetime function and the pandas .astype method respectively\n",
    "    \n",
    "##### Issue #3: 'a' as name in the name column of the tweeter archive dataset(wrongly extracted names)\n",
    "    The wrongly extracted names( names that started with lowercase) were changed to None using the pandas .replace method\n",
    "   \n",
    "##### Issue #4: some tweets are retweeted\n",
    "    Retweets are not needed for the analyses. Retweets were dropped using pandas ~\n",
    "    \n",
    "##### Issue #5: rating numerators above 15\n",
    "    This issue was resolved following the steps below\n",
    "    1. Re-extract the ratings from the text using the pandas .extract method  \n",
    "    2. Split it into `rating_num` and `rating_dem` columns using the pandas .split  method\n",
    "    3. drop the `rating_numerator` and `rating_denominator`columns using the pandas .drop method\n",
    "    4. drop any row with `rating_num` greater than 15 using the pandas .drop method\n",
    "    \n",
    "##### Issue #6: rating denominators below and above 10\n",
    "    Rows with rating denominator less than 10 were dropped using the pandas .drop  method\n",
    "    \n",
    "##### Issue #7: inconsitency in the dog_breed column in the image prediction table\n",
    "    The names in the dog_breeds column were formatted to lowercase using the pandas str.lower method\n",
    "    \n",
    "##### Issue #8: some tweets are not dogs\n",
    "    The rows with p_dog as False were dropped using the pandas .drop method before the tables were merged\n",
    "    \n",
    "##### Issue #9: some column names are not descriptive\n",
    "    Non descriptive column names, p1 and id_str were renamed to dog_breeds and tweet_id in the image prediction and data_json table respectively\n",
    "\n",
    "##### Issue #10: there should be a dog_stages column that will contain the four dog stages represented in the tweeter archive table\n",
    "    The issue was resolved following the step below\n",
    "    \n",
    "    1. replacing the None with empty string using the pandas .replace method\n",
    "    2. concatenating the 4 dog stages column into a new column, dog_stages, using the + operator\n",
    "    3. dropping the four dog stages columns using the pandas .drop method\n",
    "    4. replacing the empty stings with None\n",
    "\n",
    "##### Issue #11: the data_json should be part of the tweeter archive table\n",
    "    After cleaning, this tidiness issue was resolved by merging the two tables on tweet_id column using the pandas merge function\n",
    "    \n",
    "    \n",
    "##### Issue #12:  A tweet rating two dogs\n",
    "    The tweets rating two dogs were identified and the names of the dogs separeted with 'and' in the name column"
   ]
  }
 ],
 "metadata": {
  "kernelspec": {
   "display_name": "Python 3 (ipykernel)",
   "language": "python",
   "name": "python3"
  },
  "language_info": {
   "codemirror_mode": {
    "name": "ipython",
    "version": 3
   },
   "file_extension": ".py",
   "mimetype": "text/x-python",
   "name": "python",
   "nbconvert_exporter": "python",
   "pygments_lexer": "ipython3",
   "version": "3.9.12"
  }
 },
 "nbformat": 4,
 "nbformat_minor": 2
}
